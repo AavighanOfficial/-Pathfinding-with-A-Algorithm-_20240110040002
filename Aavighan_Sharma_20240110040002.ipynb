{
  "nbformat": 4,
  "nbformat_minor": 0,
  "metadata": {
    "colab": {
      "provenance": []
    },
    "kernelspec": {
      "name": "python3",
      "display_name": "Python 3"
    },
    "language_info": {
      "name": "python"
    }
  },
  "cells": [
    {
      "cell_type": "markdown",
      "source": [
        "Name- Aavighan Sharma\n",
        "Branch- CSEAIML\n",
        "SECTION- A\n",
        "ROLL NO.- 20240110040002\n",
        "PROBLEM STATEMENT- Pathfinding with A* Algorithm"
      ],
      "metadata": {
        "id": "v1mRb2IUO1Gk"
      }
    },
    {
      "cell_type": "code",
      "source": [
        "import heapq\n",
        "import numpy as np\n",
        "import matplotlib.pyplot as plt"
      ],
      "metadata": {
        "id": "EPLYtOh5PQ6l"
      },
      "execution_count": 2,
      "outputs": []
    },
    {
      "cell_type": "code",
      "source": [
        "class Node:\n",
        "    \"\"\"Class to represent a node in the A* algorithm.\"\"\"\n",
        "    def __init__(self, position, parent=None):\n",
        "        self.position = position\n",
        "        self.parent = parent\n",
        "        self.g = 0  # Cost from start node\n",
        "        self.h = 0  # Heuristic cost (estimated)\n",
        "        self.f = 0  # Total cost (g + h)\n",
        "\n",
        "    def __lt__(self, other):\n",
        "        return self.f < other.f  # Needed for priority queue sorting\n",
        "\n",
        "def heuristic(a, b):\n",
        "    \"\"\"Manhattan Distance Heuristic.\"\"\"\n",
        "    return abs(a[0] - b[0]) + abs(a[1] - b[1])\n",
        "\n",
        "def astar(grid, start, goal):\n",
        "    \"\"\"A* algorithm to find the shortest path.\"\"\"\n",
        "    open_list = []\n",
        "    closed_set = set()\n",
        "\n",
        "    start_node = Node(start)\n",
        "    goal_node = Node(goal)\n",
        "    heapq.heappush(open_list, start_node)\n",
        "\n",
        "    while open_list:\n",
        "        current_node = heapq.heappop(open_list)\n",
        "        closed_set.add(current_node.position)\n",
        "\n",
        "        # If goal is reached, reconstruct path\n",
        "        if current_node.position == goal:\n",
        "            path = []\n",
        "            while current_node:\n",
        "                path.append(current_node.position)\n",
        "                current_node = current_node.parent\n",
        "            return path[::-1]  # Reverse path to get correct order\n",
        "\n",
        "        x, y = current_node.position\n",
        "        neighbors = [(x-1, y), (x+1, y), (x, y-1), (x, y+1)]  # Allowed moves\n",
        "\n",
        "        for next_pos in neighbors:\n",
        "            if next_pos in closed_set or not (0 <= next_pos[0] < len(grid) and 0 <= next_pos[1] < len(grid[0])):\n",
        "                continue\n",
        "            if grid[next_pos[0]][next_pos[1]] == 1:  # If obstacle, skip\n",
        "                continue\n",
        "\n",
        "            neighbor = Node(next_pos, current_node)\n",
        "            neighbor.g = current_node.g + 1\n",
        "            neighbor.h = heuristic(next_pos, goal)\n",
        "            neighbor.f = neighbor.g + neighbor.h\n",
        "\n",
        "            heapq.heappush(open_list, neighbor)\n",
        "\n",
        "    return None  # No path found\n"
      ],
      "metadata": {
        "id": "cl1oU0tCROJ7"
      },
      "execution_count": 3,
      "outputs": []
    },
    {
      "cell_type": "code",
      "source": [
        "def visualize(grid, path, start, goal):\n",
        "    \"\"\"Displays the grid and the shortest path using Matplotlib.\"\"\"\n",
        "    grid = np.array(grid)\n",
        "    plt.figure(figsize=(6, 6))\n",
        "    plt.imshow(grid, cmap=\"Greys\", origin=\"upper\")\n",
        "\n",
        "    # Plot the path\n",
        "    if path:\n",
        "        for step in path:\n",
        "            plt.scatter(step[1], step[0], marker='o', color='red', label=\"Path\")\n",
        "    plt.scatter(start[1], start[0], marker='s', color='blue', label=\"Start\")\n",
        "    plt.scatter(goal[1], goal[0], marker='X', color='green', label=\"Goal\")\n",
        "\n",
        "    plt.legend()\n",
        "    plt.grid()\n",
        "    plt.show()\n"
      ],
      "metadata": {
        "id": "NtfiOpyfRVEu"
      },
      "execution_count": 4,
      "outputs": []
    },
    {
      "cell_type": "code",
      "source": [
        "# User Input for Grid Size\n",
        "rows = int(input(\"Enter number of rows: \"))\n",
        "cols = int(input(\"Enter number of columns: \"))\n",
        "grid = [[0] * cols for _ in range(rows)]\n",
        "\n",
        "# Taking obstacle inputs\n",
        "num_obstacles = int(input(\"Enter number of obstacles: \"))\n",
        "for _ in range(num_obstacles):\n",
        "    r, c = map(int, input(\"Enter obstacle coordinates (row col): \").split())\n",
        "    grid[r][c] = 1  # Mark obstacles as 1\n",
        "\n",
        "# Taking start and goal points\n",
        "start = tuple(map(int, input(\"Enter start position (row col): \").split()))\n",
        "goal = tuple(map(int, input(\"Enter goal position (row col): \").split()))\n"
      ],
      "metadata": {
        "colab": {
          "base_uri": "https://localhost:8080/"
        },
        "collapsed": true,
        "id": "JchzZGwpRaos",
        "outputId": "89e21986-0ecb-4345-8a83-fcaa334bb6f2"
      },
      "execution_count": 14,
      "outputs": [
        {
          "name": "stdout",
          "output_type": "stream",
          "text": [
            "Enter number of rows: 5\n",
            "Enter number of columns: 5\n",
            "Enter number of obstacles: 6\n",
            "Enter obstacle coordinates (row col): 2 1\n",
            "Enter obstacle coordinates (row col): 2 2\n",
            "Enter obstacle coordinates (row col): 2 3\n",
            "Enter obstacle coordinates (row col): 3 1\n",
            "Enter obstacle coordinates (row col): 3 3\n",
            "Enter obstacle coordinates (row col): 3 2\n",
            "Enter start position (row col): 0 0\n",
            "Enter goal position (row col): 4 4\n"
          ]
        }
      ]
    },
    {
      "cell_type": "code",
      "source": [
        "# Run A* algorithm\n",
        "path = astar(grid, start, goal)\n",
        "\n",
        "# Display the results\n",
        "if path:\n",
        "    print(\"Path found:\", path)\n",
        "    visualize(grid, path, start, goal)\n",
        "else:\n",
        "    print(\"No path found!\")\n"
      ],
      "metadata": {
        "colab": {
          "base_uri": "https://localhost:8080/",
          "height": 540
        },
        "id": "dmBiTgX8SGVi",
        "outputId": "000463b1-17fd-44aa-dff4-38104ad14bb7"
      },
      "execution_count": 16,
      "outputs": [
        {
          "output_type": "stream",
          "name": "stdout",
          "text": [
            "Path found: [(0, 0), (1, 0), (2, 0), (3, 0), (4, 0), (4, 1), (4, 2), (4, 3), (4, 4)]\n"
          ]
        },
        {
          "output_type": "display_data",
          "data": {
            "text/plain": [
              "<Figure size 600x600 with 1 Axes>"
            ],
            "image/png": "[encoded data removed]"
          },
          "metadata": {}
        }
      ]
    }
  ]
}